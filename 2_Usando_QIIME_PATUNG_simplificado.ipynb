{
 "cells": [
  {
   "cell_type": "markdown",
   "metadata": {
    "collapsed": true
   },
   "source": [
    "# Tutorial para usar QIIME en PATUNG\n",
    "\n",
    "Tutorial para correr QIIME en el servidor de PATUNG del LANCIS.\n",
    "Se asume que el usuario ya tiene cuenta y contraseña del servidor de PATUNG.\n",
    "El usuario debe tener conocimiento de BASH para crear y mover archivos (no es cierto, pongo los comandos aquí pero si ayuda).\n",
    "\n",
    "* Nota: si no te gusta Linux (como a mi) todo el proceso se puede realizar en Windows 10 usando el subsistema Linux/Ubuntu sin usar máquina virtual. \n"
   ]
  },
  {
   "cell_type": "markdown",
   "metadata": {},
   "source": [
    "Para empezar este tutorial debemos estar dentro de nuestra sesión de PATUNG y corriendo el Notebook remotamente en nuestra máquina local. Para esto por favor sigue las instrucciones en el siguiente link: __```url```__"
   ]
  },
  {
   "cell_type": "markdown",
   "metadata": {},
   "source": [
    "\n",
    "\n",
    "## Usando QIIME\n",
    "\n",
    "Una ve"
   ]
  },
  {
   "cell_type": "markdown",
   "metadata": {},
   "source": []
  },
  {
   "cell_type": "markdown",
   "metadata": {},
   "source": [
    "Set path to analysis directory."
   ]
  },
  {
   "cell_type": "code",
   "execution_count": null,
   "metadata": {
    "collapsed": true
   },
   "outputs": [],
   "source": [
    "ANALYSIS_PATH=/srv/home/anavarro/agave_metagenom\n",
    "echo ANALYSIS_PATH\n",
    "\n",
    "TMPDIR=/srv/home/anavarro/tmp\n",
    "source activate qiime2-2018.8"
   ]
  },
  {
   "cell_type": "markdown",
   "metadata": {
    "collapsed": true
   },
   "source": [
    "1) Import seqs"
   ]
  },
  {
   "cell_type": "code",
   "execution_count": null,
   "metadata": {
    "collapsed": true
   },
   "outputs": [],
   "source": [
    "{\n",
    "echo '#!/bin/bash'\n",
    "printf 'export TMPDIR=%s\\n' \"$TMPDIR\"\n",
    "\n",
    "echo 'qiime tools import \\'\n",
    "echo \"--type 'SampleData[PairedEndSequencesWithQuality]' \\\\\"\n",
    "printf -- '--input-path %s/1_secuencias/2_seqs_manifest.txt \\\\\\n' \"$ANALYSIS_PATH\"\n",
    "echo '--input-format PairedEndFastqManifestPhred33 \\'\n",
    "printf --  '--output-path %s/2_resultados/1_demultiplexed_pairedEnd_seqs.qza' \"$ANALYSIS_PATH\"\n",
    "\n",
    "} > 1_import_seqs.sh"
   ]
  },
  {
   "cell_type": "code",
   "execution_count": null,
   "metadata": {
    "collapsed": true
   },
   "outputs": [],
   "source": [
    "{\n",
    "printf 'executable \t= %s/3_ejecutables/1_import_seqs.sh\\n' \"$ANALYSIS_PATH\" \n",
    "echo 'getenv\t\t= True'\n",
    "printf 'output\t\t= %s/4_outs/1_import_seqs$(Process).out\\n' \"$ANALYSIS_PATH\" \n",
    "printf 'log  \t\t= %s/5_logs/1_import_seqs$(Process).log\\n' \"$ANALYSIS_PATH\" \n",
    "printf 'error\t\t= %s/6_errores/1_import_seqs$(Process).error\\n' \"$ANALYSIS_PATH\" \n",
    "\n",
    "echo 'request_cpus\t=5'\n",
    "echo 'queue'\n",
    "} > 1_import_seqs_condor.condor"
   ]
  },
  {
   "cell_type": "code",
   "execution_count": null,
   "metadata": {
    "collapsed": true
   },
   "outputs": [],
   "source": [
    "condor_submit 1_import_seqs_condor.condor"
   ]
  },
  {
   "cell_type": "code",
   "execution_count": null,
   "metadata": {
    "collapsed": true
   },
   "outputs": [],
   "source": [
    "condor_q"
   ]
  },
  {
   "cell_type": "markdown",
   "metadata": {
    "collapsed": true
   },
   "source": [
    "2) Join pair ends"
   ]
  },
  {
   "cell_type": "code",
   "execution_count": null,
   "metadata": {
    "collapsed": true
   },
   "outputs": [],
   "source": [
    "{\n",
    "echo '#!/bin/bash'\n",
    "printf 'export TMPDIR=%s\\n' \"$TMPDIR\"\n",
    "\n",
    "echo 'qiime vsearch join-pairs \\'\n",
    "printf --  '--i-demultiplexed-seqs %s/2_resultados/1_demultiplexed_pairedEnd_seqs.qza \\\\\\n' \"$ANALYSIS_PATH\"\n",
    "printf --  '--o-joined-sequences %s/2_resultados/2_demultiplexed_joined_seqs_wq.qza \\\\\\n' \"$ANALYSIS_PATH\"\n",
    "echo '--p-allowmergestagger \\'\n",
    "echo '--verbose'\n",
    "} > 2_vsearch_join-pairs.sh"
   ]
  },
  {
   "cell_type": "code",
   "execution_count": null,
   "metadata": {
    "collapsed": true
   },
   "outputs": [],
   "source": [
    "{\n",
    "printf 'executable \t= %s/3_ejecutables/2_vsearch_join-pairs.sh\\n' \"$ANALYSIS_PATH\" \n",
    "echo 'getenv\t\t= True'\n",
    "printf 'output\t\t= %s/4_outs/2_vsearch_join$(Process).out\\n' \"$ANALYSIS_PATH\" \n",
    "printf 'log  \t\t= %s/5_logs/2_vsearch_join$(Process).log\\n' \"$ANALYSIS_PATH\" \n",
    "printf 'error\t\t= %s/6_errores/2_vsearch_join$(Process).error\\n' \"$ANALYSIS_PATH\" \n",
    "\n",
    "echo 'request_cpus\t=5'\n",
    "\n",
    "echo 'queue'\n",
    "} > 2_vsearch_join-pairs_submit.condor"
   ]
  },
  {
   "cell_type": "code",
   "execution_count": null,
   "metadata": {
    "collapsed": true
   },
   "outputs": [],
   "source": [
    "condor_submit 2_vsearch_join-pairs_submit.condor"
   ]
  },
  {
   "cell_type": "markdown",
   "metadata": {
    "collapsed": true
   },
   "source": [
    "3) Quality filter"
   ]
  },
  {
   "cell_type": "code",
   "execution_count": null,
   "metadata": {
    "collapsed": true
   },
   "outputs": [],
   "source": [
    "{\n",
    "echo '#!/bin/bash'\n",
    "printf 'export TMPDIR=%s\\n' \"$TMPDIR\"\n",
    "\n",
    "echo 'qiime quality-filter q-score-joined \\'\n",
    "printf -- '--i-demux %s/2_resultados/2_demultiplexed_joined_seqs_wq.qza \\\\\\n' \"$ANALYSIS_PATH\"\n",
    "echo '--p-min-quality 4 \\'\n",
    "echo '--p-quality-window 3 \\'\n",
    "echo '--p-min-length-fraction 0.75 \\'\n",
    "echo '--p-max-ambiguous 2 \\'\n",
    "printf -- '--output-dir %s/2_resultados/3_q_filter_output \\\\\\n' \"$ANALYSIS_PATH\"\n",
    "echo '--verbose'\n",
    "} > 3_quality-filter.sh"
   ]
  },
  {
   "cell_type": "code",
   "execution_count": null,
   "metadata": {
    "collapsed": true
   },
   "outputs": [],
   "source": [
    "{\n",
    "printf 'executable \t= %s/3_ejecutables/3_quality-filter.sh\\n' \"$ANALYSIS_PATH\" \n",
    "echo 'getenv\t\t= True'\n",
    "printf 'output\t\t= %s/4_outs/3_quality-filter$(Process).out\\n' \"$ANALYSIS_PATH\" \n",
    "printf 'log  \t\t= %s/5_logs/3_quality-filter$(Process).log\\n' \"$ANALYSIS_PATH\" \n",
    "printf 'error\t\t= %s/6_errores/3_quality-filter$(Process).error\\n' \"$ANALYSIS_PATH\" \n",
    "\n",
    "echo 'request_cpus\t=5'\n",
    "\n",
    "echo 'queue'\n",
    "} > 3_quality-filter_submbit.condor"
   ]
  },
  {
   "cell_type": "code",
   "execution_count": null,
   "metadata": {
    "collapsed": true
   },
   "outputs": [],
   "source": [
    "condor_submit 3_quality-filter_submbit.condor"
   ]
  },
  {
   "cell_type": "markdown",
   "metadata": {
    "collapsed": true
   },
   "source": [
    "4) Deblur denoise"
   ]
  },
  {
   "cell_type": "code",
   "execution_count": null,
   "metadata": {
    "collapsed": true
   },
   "outputs": [],
   "source": [
    "{\n",
    "echo '#!/bin/bash'\n",
    "printf 'export TMPDIR=%s\\n' \"$TMPDIR\"\n",
    "\n",
    "echo 'qiime deblur denoise-16S \\'\n",
    "printf -- '--i-demultiplexed-seqs %s/2_resultados/3_q_filter_output/filtered_sequences.qza \\\\\\n' \"$ANALYSIS_PATH\"\n",
    "echo '--p-trim-length 250 \\'\n",
    "echo '--p-sample-stats \\'\n",
    "echo '--p-jobs-to-start 40 \\'\n",
    "printf -- '--output-dir %s/2_resultados/4_deblur_output \\\\\\n' \"$ANALYSIS_PATH\"\n",
    "echo '--verbose'\n",
    "} > 4_deblur-denoise.sh"
   ]
  },
  {
   "cell_type": "code",
   "execution_count": null,
   "metadata": {
    "collapsed": true
   },
   "outputs": [],
   "source": [
    "{\n",
    "printf 'executable \t= %s/3_ejecutables/4_deblur-denoise.sh\\n' \"$ANALYSIS_PATH\" \n",
    "\n",
    "echo 'getenv\t\t= True'\n",
    "printf 'output\t\t= %s/4_outs/4_deblur-denoise$(Process).out\\n' \"$ANALYSIS_PATH\" \n",
    "printf 'log  \t\t= %s/5_logs/4_deblur-denoise$(Process).log\\n' \"$ANALYSIS_PATH\" \n",
    "printf 'error\t\t= %s/6_errores/4_deblur-denoise$(Process).error\\n' \"$ANALYSIS_PATH\" \n",
    "\n",
    "echo 'request_cpus\t=5'\n",
    "\n",
    "echo 'queue'\n",
    "} > 4_deblur-denoise_submbit.condor"
   ]
  },
  {
   "cell_type": "code",
   "execution_count": null,
   "metadata": {
    "collapsed": true
   },
   "outputs": [],
   "source": [
    "condor_submit 4_deblur-denoise_submbit.condor"
   ]
  },
  {
   "cell_type": "markdown",
   "metadata": {},
   "source": [
    "5) cluster-features-de-novo. Open reference."
   ]
  },
  {
   "cell_type": "code",
   "execution_count": null,
   "metadata": {
    "collapsed": true
   },
   "outputs": [],
   "source": [
    "{\n",
    "echo '#!/bin/bash'\n",
    "printf 'export TMPDIR=%s\\n' \"$TMPDIR\"\n",
    "\n",
    "echo 'qiime vsearch cluster-features-de-novo \\'\n",
    "printf -- '--i-sequences %s/2_resultados/4_deblur_output/representative_sequences.qza \\\\\\n' \"$ANALYSIS_PATH\"\n",
    "printf -- '--i-table %s/2_resultados/4_deblur_output/table.qza \\\\\\n' \"$ANALYSIS_PATH\"\n",
    "echo '--p-perc-identity 0.97 \\'\n",
    "echo '--p-threads 0 \\'\n",
    "printf -- '--output-dir %s/2_resultados/5_vsearch_output \\\\\\n' \"$ANALYSIS_PATH\"\n",
    "echo '--verbose'\n",
    "} > 5_vsearch_cluster_denovo.sh"
   ]
  },
  {
   "cell_type": "code",
   "execution_count": null,
   "metadata": {
    "collapsed": true
   },
   "outputs": [],
   "source": [
    "{\n",
    "printf 'executable \t= %s/3_ejecutables/5_vsearch_cluster_denovo.sh\\n' \"$ANALYSIS_PATH\" \n",
    "echo 'getenv\t\t= True'\n",
    "\n",
    "printf 'output\t\t= %s/4_outs/5_vsearch_denovo$(Process).out\\n' \"$ANALYSIS_PATH\" \n",
    "printf 'log  \t\t= %s/5_logs/5_vsearch_denovo$(Process).log\\n' \"$ANALYSIS_PATH\" \n",
    "printf 'error\t\t= %s/6_errores/5_vsearch_denovo$(Process).error\\n' \"$ANALYSIS_PATH\" \n",
    "\n",
    "echo 'request_cpus\t=5'\n",
    "echo 'queue'\n",
    "\n",
    "} > 5_vsearch_cluster_denovo_submbit.condor"
   ]
  },
  {
   "cell_type": "code",
   "execution_count": null,
   "metadata": {},
   "outputs": [],
   "source": [
    " condor_submit 5_vsearch_cluster_denovo_submbit.condor"
   ]
  },
  {
   "cell_type": "markdown",
   "metadata": {
    "collapsed": true
   },
   "source": [
    "6) Alineamiento"
   ]
  },
  {
   "cell_type": "code",
   "execution_count": null,
   "metadata": {
    "collapsed": true
   },
   "outputs": [],
   "source": [
    "{\n",
    "echo '#!/bin/bash'\n",
    "printf 'export TMPDIR=%s\\n' \"$TMPDIR\"\n",
    "\n",
    "echo 'qiime alignment mafft \\'\n",
    "printf -- '--i-sequences %s/2_resultados/5_vsearch_output/clustered_sequences.qza \\\\\\n' \"$ANALYSIS_PATH\"\n",
    "echo '--p-n-threads 1 \\'\n",
    "printf -- '--output-dir %s/2_resultados/6_alignment_output \\\\\\n' \"$ANALYSIS_PATH\"\n",
    "echo '--verbose'\n",
    "\n",
    "} > 6_alignment_mafft.sh"
   ]
  },
  {
   "cell_type": "code",
   "execution_count": null,
   "metadata": {
    "collapsed": true
   },
   "outputs": [],
   "source": [
    "{\n",
    "printf 'executable \t= %s/3_ejecutables/6_alignment_mafft.sh\\n' \"$ANALYSIS_PATH\" \n",
    "echo 'getenv\t\t= True'\n",
    "\n",
    "printf 'output\t\t= %s/4_outs/6_alignment_mafft$(Process).out\\n' \"$ANALYSIS_PATH\" \n",
    "printf 'log  \t\t= %s/5_logs/6_alignment_mafft$(Process).log\\n' \"$ANALYSIS_PATH\" \n",
    "printf 'error\t\t= %s/6_errores/6_alignment_mafft$(Process).error\\n' \"$ANALYSIS_PATH\" \n",
    "\n",
    "echo 'request_cpus\t= 5'\n",
    "echo 'queue'\n",
    "\n",
    "} > 6_alignment_mafft_submbit.condor"
   ]
  },
  {
   "cell_type": "code",
   "execution_count": null,
   "metadata": {
    "collapsed": true
   },
   "outputs": [],
   "source": [
    "condor_submit 6_alignment_mafft_submbit.condor"
   ]
  },
  {
   "cell_type": "markdown",
   "metadata": {},
   "source": [
    "7) qiime feature-classifier classify-sklearn"
   ]
  },
  {
   "cell_type": "code",
   "execution_count": null,
   "metadata": {
    "collapsed": true
   },
   "outputs": [],
   "source": [
    "Bajar gg-13-8-99-nb-classifier.qza\n",
    "\n",
    "wget 'https://data.qiime2.org/2018.8/common/gg-13-8-99-nb-classifier.qza'"
   ]
  },
  {
   "cell_type": "code",
   "execution_count": null,
   "metadata": {
    "collapsed": true
   },
   "outputs": [],
   "source": [
    "{\n",
    "echo '#!/bin/bash'\n",
    "printf 'export TMPDIR=%s\\n' \"$TMPDIR\"\n",
    "\n",
    "echo 'qiime feature-classifier classify-sklearn \\'\n",
    "printf -- '--i-reads %s/2_resultados/5_vsearch_output/clustered_sequences.qza \\\\\\n' \"$ANALYSIS_PATH\"\n",
    "printf -- '--i-classifier %s/7_databases/gg-13-8-99-nb-classifier.qza \\\\\\n' \"$ANALYSIS_PATH\"\n",
    "echo '--p-n-jobs -1 \\'\n",
    "echo '--p-confidence 0.8 \\'\n",
    "printf -- '--output-dir %s/2_resultados/7_taxonomy_output \\\\\\n' \"$ANALYSIS_PATH\"\n",
    "echo '--verbose'\n",
    "\n",
    "} > 7_taxonomy_gg_sk.sh"
   ]
  },
  {
   "cell_type": "code",
   "execution_count": null,
   "metadata": {
    "collapsed": true
   },
   "outputs": [],
   "source": [
    "{\n",
    "printf 'executable \t= %s/3_ejecutables/7_taxonomy_gg_sk.sh\\n' \"$ANALYSIS_PATH\" \n",
    "echo 'getenv\t\t= True'\n",
    "printf 'output\t\t= %s/4_outs/7_taxonomy$(Process).out\\n' \"$ANALYSIS_PATH\"\n",
    "printf 'log  \t\t= %s/5_logs/7_taxonomy$(Process).log\\n' \"$ANALYSIS_PATH\"\n",
    "printf 'error\t\t= %s/6_errores/7_taxonomy$(Process).error\\n' \"$ANALYSIS_PATH\"\n",
    "\n",
    "echo 'request_cpus\t= 5'\n",
    "echo 'queue'\n",
    "} > 7_taxonomy_gg_sk_submbit.condor"
   ]
  },
  {
   "cell_type": "code",
   "execution_count": null,
   "metadata": {},
   "outputs": [],
   "source": [
    "condor_submit 7_taxonomy_gg_sk_submbit.condor"
   ]
  },
  {
   "cell_type": "markdown",
   "metadata": {},
   "source": [
    "8) Exporting clustered output to biom file"
   ]
  },
  {
   "cell_type": "code",
   "execution_count": null,
   "metadata": {
    "collapsed": true
   },
   "outputs": [],
   "source": [
    "{\n",
    "echo '#!/bin/bash'\n",
    "printf 'export TMPDIR=%s\\n' \"$TMPDIR\"\n",
    "\n",
    "echo 'qiime tools export \\'\n",
    "printf -- '--input-path %s/2_resultados/5_vsearch_output/clustered_table.qza \\\\\\n' \"$ANALYSIS_PATH\"\n",
    "printf -- '--output-path %s/2_resultados/8_biom/' \"$ANALYSIS_PATH\"\n",
    "} > 8_export_biom.sh"
   ]
  },
  {
   "cell_type": "code",
   "execution_count": null,
   "metadata": {
    "collapsed": true
   },
   "outputs": [],
   "source": [
    "{\n",
    "printf 'executable \t= %s/3_ejecutables/8_export_biom.sh\\n' \"$ANALYSIS_PATH\"\n",
    "echo 'getenv\t\t= True'\n",
    "\n",
    "printf 'output\t\t= %s/4_outs/8_biom$(Process).out\\n' \"$ANALYSIS_PATH\"\n",
    "printf 'log  \t\t= %s/5_logs/8_biom$(Process).log\\n' \"$ANALYSIS_PATH\"\n",
    "printf 'error\t\t= %s/6_errores/8_biom$(Process).error\\n' \"$ANALYSIS_PATH\"\n",
    "\n",
    "echo 'request_cpus\t= 5'\n",
    "\n",
    "echo 'queue'\n",
    "} > 8_export_biom.condor"
   ]
  },
  {
   "cell_type": "code",
   "execution_count": null,
   "metadata": {},
   "outputs": [],
   "source": [
    "condor_submit 8_export_biom.condor"
   ]
  },
  {
   "cell_type": "code",
   "execution_count": null,
   "metadata": {},
   "outputs": [],
   "source": [
    "biom summarize-table -i ../2_resultados/8_biom/feature-table.biom -o ../2_resultados/8_biom/biom_sum.txt"
   ]
  },
  {
   "cell_type": "markdown",
   "metadata": {},
   "source": [
    "9) Exporting taxonomy classificaction to TSV file"
   ]
  },
  {
   "cell_type": "code",
   "execution_count": null,
   "metadata": {
    "collapsed": true
   },
   "outputs": [],
   "source": [
    "{\n",
    "echo '#!/bin/bash'\n",
    "printf 'export TMPDIR=%s\\n' \"$TMPDIR\"\n",
    "\n",
    "echo 'qiime tools export \\'\n",
    "printf -- '--input-path %s/2_resultados/7_taxonomy_output/classification.qza \\\\\\n' \"$ANALYSIS_PATH\"\n",
    "printf -- '--output-path %s/2_resultados/9_tsv_gg_sk' \"$ANALYSIS_PATH\"\n",
    "} > 9_export_to_tsv_gg_sk.sh"
   ]
  },
  {
   "cell_type": "code",
   "execution_count": null,
   "metadata": {
    "collapsed": true
   },
   "outputs": [],
   "source": [
    "{\n",
    "printf 'executable \t= %s/3_ejecutables/9_export_to_tsv_gg_sk.sh\\n' \"$ANALYSIS_PATH\"\n",
    "echo 'getenv\t\t= True'\n",
    "printf 'output\t\t= %s/4_outs/9_export_tsv$(Process).out\\n' \"$ANALYSIS_PATH\"\n",
    "printf 'log  \t\t= %s/5_logs/9_export_tsv$(Process).log\\n' \"$ANALYSIS_PATH\"\n",
    "printf 'error\t\t= %s/6_errores/9_export_tsv$(Process).error\\n' \"$ANALYSIS_PATH\"\n",
    "\n",
    "echo 'request_cpus\t= 5'\n",
    "\n",
    "echo 'queue'\n",
    "} > 9_export_to_tsv_condor.condor"
   ]
  },
  {
   "cell_type": "code",
   "execution_count": null,
   "metadata": {},
   "outputs": [],
   "source": [
    "condor_submit 9_export_to_tsv_condor.condor"
   ]
  },
  {
   "cell_type": "markdown",
   "metadata": {
    "collapsed": true
   },
   "source": [
    "10) Joining biom with classification and metadata."
   ]
  },
  {
   "cell_type": "code",
   "execution_count": null,
   "metadata": {
    "collapsed": true
   },
   "outputs": [],
   "source": [
    "{\n",
    "echo '#!/bin/bash'\n",
    "printf 'export TMPDIR=%s\\n' \"$TMPDIR\"\n",
    "\n",
    "echo 'biom add-metadata \\'\n",
    "printf -- '-i %s/2_resultados/8_biom/feature-table.biom  \\\\\\n' \"$ANALYSIS_PATH\"\n",
    "printf -- '-o %s/2_resultados/10_biomtable_w_tax.biom  \\\\\\n' \"$ANALYSIS_PATH\"\n",
    "printf -- '--observation-metadata-fp %s/2_resultados/9_tsv_gg_sk/3_taxonomy_updated.tsv \\\\\\n' \"$ANALYSIS_PATH\"\n",
    "echo '--observation-header OTUID,taxonomy \\'\n",
    "echo '--sc-separated taxonomy  \\'\n",
    "printf -- '--sample-metadata-fp %s/1_secuencias/2_metadata_agave.txt  \\\\\\n' \"$ANALYSIS_PATH\"\n",
    "echo '--sample-header SampleID,acetone,consumed_acetate,propionic_acid,butyric,consumed_carbs,hydrogen'\n",
    "} > 10_join_biom_tax.sh"
   ]
  },
  {
   "cell_type": "code",
   "execution_count": null,
   "metadata": {},
   "outputs": [],
   "source": [
    "biom summarize-table -i ../2_resultados/10_biomtable_w_tax.biom -o ../2_resultados/10_biom_sum.txt"
   ]
  },
  {
   "cell_type": "markdown",
   "metadata": {
    "collapsed": true
   },
   "source": [
    "11) Exporting biom as OTU table. Useful for other analyses."
   ]
  },
  {
   "cell_type": "code",
   "execution_count": null,
   "metadata": {
    "collapsed": true
   },
   "outputs": [],
   "source": [
    "{\n",
    "echo '#!/bin/bash'\n",
    "printf 'export TMPDIR=%s\\n' \"$TMPDIR\"\n",
    "\n",
    "echo 'biom convert \\'\n",
    "printf -- '-i %s/2_resultados/10_biomtable_w_tax.biom \\\\\\n' \"$ANALYSIS_PATH\"\n",
    "printf -- '-o %s/2_resultados/11_table.from_biom_w_taxonomy.txt \\\\\\n' \"$ANALYSIS_PATH\"\n",
    "echo '--to-tsv \\'\n",
    "echo '--header-key taxonomy'\n",
    "} > 11_biom_to_otu_table_gg_sk.sh"
   ]
  },
  {
   "cell_type": "markdown",
   "metadata": {},
   "source": [
    "12) phylogeny fast tree"
   ]
  },
  {
   "cell_type": "code",
   "execution_count": null,
   "metadata": {
    "collapsed": true
   },
   "outputs": [],
   "source": [
    "{\n",
    "echo '#!/bin/bash'\n",
    "printf 'export TMPDIR=%s\\n' \"$TMPDIR\"\n",
    "\n",
    "echo 'qiime phylogeny fasttree \\'\n",
    "printf -- '--i-alignment %s/2_resultados/6_alignment_output/alignment.qza \\\\\\n' \"$ANALYSIS_PATH\"\n",
    "echo '--p-n-threads 1 \\'\n",
    "printf -- '--o-tree %s/2_resultados/12_tree_output \\\\\\n' \"$ANALYSIS_PATH\"\n",
    "echo '--verbose'\n",
    "} > 12_fasttree.sh"
   ]
  },
  {
   "cell_type": "code",
   "execution_count": null,
   "metadata": {
    "collapsed": true
   },
   "outputs": [],
   "source": [
    "{\n",
    "printf 'executable \t= %s/3_ejecutables/12_fasttree.sh\\n' \"$ANALYSIS_PATH\"\n",
    "echo 'getenv\t\t= True'\n",
    "printf 'output\t\t= %s/4_outs/12_fasttree$(Process).out\\n' \"$ANALYSIS_PATH\"\n",
    "printf 'log  \t\t= %s/5_logs/12_fasttree$(Process).log\\n' \"$ANALYSIS_PATH\"\n",
    "printf 'error\t\t= %s/6_errores/12_fasttree$(Process).error\\n' \"$ANALYSIS_PATH\"\n",
    "\n",
    "\n",
    "echo 'request_cpus\t= 5'\n",
    "\n",
    "echo 'queue'\n",
    "} > 12_fasttree_submbit.condor"
   ]
  },
  {
   "cell_type": "markdown",
   "metadata": {
    "collapsed": true
   },
   "source": [
    "13) Exporting qza tree to nwk"
   ]
  },
  {
   "cell_type": "code",
   "execution_count": null,
   "metadata": {
    "collapsed": true
   },
   "outputs": [],
   "source": [
    "{\n",
    "echo '#!/bin/bash'\n",
    "printf 'export TMPDIR=%s\\n' \"$TMPDIR\"\n",
    "\n",
    "echo 'qiime tools export \\'\n",
    "printf -- '--input-path %s/2_resultados/12_tree_output.qza \\\\\\n' \"$ANALYSIS_PATH\"\n",
    "printf -- '--output-path %s/2_resultados/13_exported-tree' \"$ANALYSIS_PATH\"\n",
    "} > 13_export_to_nwk.sh"
   ]
  },
  {
   "cell_type": "code",
   "execution_count": null,
   "metadata": {
    "collapsed": true
   },
   "outputs": [],
   "source": [
    "{\n",
    "printf 'executable \t= %s/3_ejecutables/13_export_to_nwk.sh\\n' \"$ANALYSIS_PATH\"\n",
    "echo 'getenv\t\t= True'\n",
    "printf 'output\t\t= %s/4_outs/11_export_to_nwk$(Process).out\\n' \"$ANALYSIS_PATH\"\n",
    "printf 'log  \t\t= %s/5_logs/11_export_to_nwk$(Process).log\\n' \"$ANALYSIS_PATH\"\n",
    "printf 'error\t\t= %s/6_errores/11_export_to_nwk$(Process).error\\n' \"$ANALYSIS_PATH\"\n",
    "\n",
    "\n",
    "echo 'request_cpus\t= 5'\n",
    "\n",
    "echo 'queue'\n",
    "} > 13_export_to_nwk_condor.condor"
   ]
  }
 ],
 "metadata": {
  "kernelspec": {
   "display_name": "Bash",
   "language": "bash",
   "name": "bash"
  },
  "language_info": {
   "codemirror_mode": "shell",
   "file_extension": ".sh",
   "mimetype": "text/x-sh",
   "name": "bash"
  }
 },
 "nbformat": 4,
 "nbformat_minor": 2
}
