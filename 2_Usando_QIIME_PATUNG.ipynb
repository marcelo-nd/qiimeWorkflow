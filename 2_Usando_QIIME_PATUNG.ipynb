{
 "cells": [
  {
   "cell_type": "markdown",
   "metadata": {},
   "source": [
    "# Tutorial para usar QIIME en PATUNG\n",
    "\n",
    "Tutorial para correr QIIME en el servidor de PATUNG del LANCIS.\n",
    "Se asume que el usuario ya tiene cuenta y contraseña del servidor de PATUNG.\n",
    "El usuario debe tener conocimiento de BASH para crear y mover archivos (no es cierto, pongo los comandos aquí pero si ayuda).\n",
    "\n",
    "* Nota: si no te gusta Linux (como a mi) todo el proceso se puede realizar en Windows 10 usando el subsistema Linux/Ubuntu sin usar máquina virtual. \n"
   ]
  },
  {
   "cell_type": "markdown",
   "metadata": {},
   "source": [
    "Para empezar este tutorial debemos estar dentro de nuestra sesión de PATUNG y corriendo el Notebook remotamente en nuestra máquina local. Para esto por favor sigue las instrucciones en el siguiente link: __```url```__"
   ]
  },
  {
   "cell_type": "markdown",
   "metadata": {},
   "source": [
    "\n",
    "\n",
    "## Usando QIIME\n",
    "\n",
    "Una ve"
   ]
  },
  {
   "cell_type": "markdown",
   "metadata": {},
   "source": []
  },
  {
   "cell_type": "markdown",
   "metadata": {
    "collapsed": true
   },
   "source": [
    "Import seqs"
   ]
  },
  {
   "cell_type": "code",
   "execution_count": null,
   "metadata": {
    "collapsed": true
   },
   "outputs": [],
   "source": [
    "{\n",
    "echo '#!/bin/bash'\n",
    "echo 'source /srv/home/anavarro/miniconda3/bin/activate qiime2'\n",
    "\n",
    "echo 'qiime tools import \\'\n",
    "echo \"--type 'SampleData[PairedEndSequencesWithQuality]' \\\\\"\n",
    "echo '--input-path $1 \\'\n",
    "echo '--source-format PairedEndFastqManifestPhred33 \\'\n",
    "echo '--output-path $2 \\'\n",
    "\n",
    "} > 1_import_seqs.sh"
   ]
  },
  {
   "cell_type": "code",
   "execution_count": null,
   "metadata": {
    "collapsed": true
   },
   "outputs": [],
   "source": [
    "{\n",
    "echo 'executable \t= /srv/home/anavarro/metag_granulos_hidro/3_ejecutables/1_import_seqs.sh'\n",
    "echo 'getenv\t\t= True'\n",
    "echo 'Arguments \t= /srv/home/anavarro/metag_granulos_hidro/1_secuencias/seqs_manifest.txt /srv/home/anavarro/metag_granulos_hidro/2_resultados/1_demultiplexed_pairedEnd_seqs.qza'\n",
    "echo 'output\t\t= /srv/home/anavarro/metag_granulos_hidro/4_outs/1_import_seqs$(Process).out '\n",
    "echo 'log  \t\t= /srv/home/anavarro/metag_granulos_hidro/5_logs/1_import_seqs$(Process).log'\n",
    "echo 'error\t\t= /srv/home/anavarro/metag_granulos_hidro/6_errores/1_import_seqs$(Process).error'\n",
    "\n",
    "echo 'request_cpus\t=5'\n",
    "\n",
    "echo 'queue'\n",
    "} > 1_import_seqs_condor.condor"
   ]
  },
  {
   "cell_type": "code",
   "execution_count": null,
   "metadata": {
    "collapsed": true
   },
   "outputs": [],
   "source": [
    "condor_submit 1_import_seqs_condor.condor"
   ]
  },
  {
   "cell_type": "code",
   "execution_count": null,
   "metadata": {
    "collapsed": true
   },
   "outputs": [],
   "source": [
    "condor_q"
   ]
  },
  {
   "cell_type": "markdown",
   "metadata": {
    "collapsed": true
   },
   "source": [
    "Join pair ends"
   ]
  },
  {
   "cell_type": "code",
   "execution_count": null,
   "metadata": {
    "collapsed": true
   },
   "outputs": [],
   "source": [
    "{\n",
    "echo '#!/bin/bash'\n",
    "echo 'source /srv/home/anavarro/miniconda3/bin/activate qiime2'\n",
    "\n",
    "echo 'qiime vsearch join-pairs \\'\n",
    "echo '--i-demultiplexed-seqs $1 \\'\n",
    "echo '--o-joined-sequences $2 \\'\n",
    "echo '--p-allowmergestagger \\'\n",
    "echo '--verbose'\n",
    "} > 2_vsearch_join-pairs.sh"
   ]
  },
  {
   "cell_type": "code",
   "execution_count": null,
   "metadata": {
    "collapsed": true
   },
   "outputs": [],
   "source": [
    "{\n",
    "echo 'executable \t= /srv/home/anavarro/metag_granulos_hidro/3_ejecutables/2_vsearch_join-pairs.sh'\n",
    "echo 'getenv\t\t= True'\n",
    "echo 'Arguments \t= /srv/home/anavarro/metag_granulos_hidro/2_resultados/1_demultiplexed_pairedEnd_seqs.qza /srv/home/anavarro/metag_granulos_hidro/2_resultados/2_demultiplexed_joined_seqs_wq.qza'\n",
    "echo 'output\t\t= /srv/home/anavarro/metag_granulos_hidro/4_outs/2_vsearch_join$(Process).out '\n",
    "echo 'log  \t\t= /srv/home/anavarro/metag_granulos_hidro/5_logs/2_vsearch_join$(Process).log'\n",
    "echo 'error\t\t= /srv/home/anavarro/metag_granulos_hidro/6_errores/2_vsearch_join$(Process).error'\n",
    "\n",
    "echo 'request_cpus\t=5'\n",
    "\n",
    "echo 'queue'\n",
    "} > 2_vsearch_join-pairs_submit.condor"
   ]
  },
  {
   "cell_type": "code",
   "execution_count": null,
   "metadata": {
    "collapsed": true
   },
   "outputs": [],
   "source": [
    "condor_submit 2_vsearch_join-pairs_submit.condor"
   ]
  },
  {
   "cell_type": "markdown",
   "metadata": {
    "collapsed": true
   },
   "source": [
    "Quality filter"
   ]
  },
  {
   "cell_type": "code",
   "execution_count": null,
   "metadata": {
    "collapsed": true
   },
   "outputs": [],
   "source": [
    "{\n",
    "echo '#!/bin/bash'\n",
    "echo 'source /srv/home/anavarro/miniconda3/bin/activate qiime2'\n",
    "\n",
    "echo 'qiime quality-filter q-score-joined \\'\n",
    "echo '--i-demux /srv/home/anavarro/metag_granulos_hidro/2_resultados/2_demultiplexed_joined_seqs_wq.qza \\'\n",
    "echo '--p-min-quality 19 \\'\n",
    "echo '--p-quality-window 5 \\'\n",
    "echo '--p-min-length-fraction 0.5 \\'\n",
    "echo '--p-max-ambiguous 10 \\'\n",
    "echo '--output-dir /srv/home/anavarro/metag_granulos_hidro/2_resultados/3_q_filter_output \\'\n",
    "echo '--verbose'\n",
    "} > 3_quality-filter.sh"
   ]
  },
  {
   "cell_type": "code",
   "execution_count": null,
   "metadata": {
    "collapsed": true
   },
   "outputs": [],
   "source": [
    "{\n",
    "echo 'executable \t= /srv/home/anavarro/metag_granulos_hidro/3_ejecutables/3_quality-filter.sh'\n",
    "echo 'getenv\t\t= True'\n",
    "echo 'output\t\t= /srv/home/anavarro/metag_granulos_hidro/4_outs/3_quality-filter$(Process).out'\n",
    "echo 'log  \t\t= /srv/home/anavarro/metag_granulos_hidro/5_logs/3_quality-filter$(Process).log'\n",
    "echo 'error\t\t= /srv/home/anavarro/metag_granulos_hidro/6_errores/3_quality-filter$(Process).error'\n",
    "\n",
    "echo 'request_cpus\t=5'\n",
    "\n",
    "echo 'queue'\n",
    "} > 3_quality-filter_submbit.condor"
   ]
  },
  {
   "cell_type": "code",
   "execution_count": null,
   "metadata": {
    "collapsed": true
   },
   "outputs": [],
   "source": [
    "condor_submit 3_quality-filter_submbit.condor"
   ]
  },
  {
   "cell_type": "markdown",
   "metadata": {
    "collapsed": true
   },
   "source": [
    "Deblur denoise"
   ]
  },
  {
   "cell_type": "code",
   "execution_count": null,
   "metadata": {
    "collapsed": true
   },
   "outputs": [],
   "source": [
    "{\n",
    "echo '#!/bin/bash'\n",
    "echo 'source /srv/home/anavarro/miniconda3/bin/activate qiime2'\n",
    "\n",
    "echo 'qiime deblur denoise-16S \\'\n",
    "echo '--i-demultiplexed-seqs /srv/home/anavarro/metag_granulos_hidro/2_resultados/3_q_filter_output/filtered_sequences.qza \\'\n",
    "echo '--p-trim-length 250 \\'\n",
    "echo '--p-sample-stats \\'\n",
    "echo '--p-jobs-to-start 40 \\'\n",
    "echo '--output-dir /srv/home/anavarro/metag_granulos_hidro/2_resultados/4_deblur_output \\'\n",
    "echo '--verbose'\n",
    "} > 4_deblur-denoise.sh"
   ]
  },
  {
   "cell_type": "code",
   "execution_count": null,
   "metadata": {
    "collapsed": true
   },
   "outputs": [],
   "source": [
    "{\n",
    "echo 'executable \t= /srv/home/anavarro/metag_granulos_hidro/3_ejecutables/4_deblur-denoise.sh'\n",
    "\n",
    "echo 'getenv\t\t= True'\n",
    "echo 'output\t\t= /srv/home/anavarro/metag_granulos_hidro/4_outs/4_deblur-denoise$(Process).out'\n",
    "echo 'log  \t\t= /srv/home/anavarro/metag_granulos_hidro/5_logs/4_deblur-denoise$(Process).log'\n",
    "echo 'error\t\t= /srv/home/anavarro/metag_granulos_hidro/6_errores/4_deblur-denoise$(Process).error'\n",
    "\n",
    "echo 'request_cpus\t=5'\n",
    "\n",
    "echo 'queue'\n",
    "} > 4_deblur-denoise_submbit.condor"
   ]
  },
  {
   "cell_type": "code",
   "execution_count": null,
   "metadata": {
    "collapsed": true
   },
   "outputs": [],
   "source": [
    "condor_submit 4_deblur-denoise_submbit.condor"
   ]
  },
  {
   "cell_type": "markdown",
   "metadata": {},
   "source": [
    "cluster-features-de-novo"
   ]
  },
  {
   "cell_type": "code",
   "execution_count": null,
   "metadata": {
    "collapsed": true
   },
   "outputs": [],
   "source": [
    "{\n",
    "echo '#!/bin/bash'\n",
    "echo 'source /srv/home/anavarro/miniconda3/bin/activate /srv/home/anavarro/miniconda3/envs/qiime2'\n",
    "\n",
    "echo 'qiime vsearch cluster-features-de-novo \\'\n",
    "echo '--i-sequences /srv/home/anavarro/metag_granulos_hidro/2_resultados/4_deblur_output/representative_sequences.qza \\'\n",
    "echo '--i-table /srv/home/anavarro/metag_granulos_hidro/2_resultados/4_deblur_output/table.qza \\'\n",
    "echo '--p-perc-identity 0.97 \\'\n",
    "echo '--p-threads 0 \\'\n",
    "echo '--output-dir /srv/home/anavarro/metag_granulos_hidro/2_resultados/5_vsearch_output \\'\n",
    "echo '--verbose'\n",
    "} > 5_vsearch_cluster_denovo.sh"
   ]
  },
  {
   "cell_type": "code",
   "execution_count": null,
   "metadata": {
    "collapsed": true
   },
   "outputs": [],
   "source": [
    "{\n",
    "echo 'executable \t= /srv/home/anavarro/metag_granulos_hidro/3_ejecutables/5_vsearch_cluster_denovo.sh'\n",
    "echo 'getenv\t\t= True'\n",
    "\n",
    "echo 'output\t\t= /srv/home/anavarro/metag_granulos_hidro/4_outs/5_vsearch_denovo$(Process).out '\n",
    "echo 'log  \t\t= /srv/home/anavarro/metag_granulos_hidro/5_logs/5_vsearch_denovo$(Process).log'\n",
    "echo 'error\t\t= /srv/home/anavarro/metag_granulos_hidro/6_errores/5_vsearch_denovo$(Process).error'\n",
    "\n",
    "echo 'request_cpus\t=5'\n",
    "\n",
    "echo 'queue'\n",
    "\n",
    "} > 5_vsearch_cluster_denovo_submbit.condor"
   ]
  },
  {
   "cell_type": "code",
   "execution_count": null,
   "metadata": {
    "collapsed": true
   },
   "outputs": [],
   "source": [
    "condor_submit 5_vsearch_cluster_denovo_submbit.condor"
   ]
  },
  {
   "cell_type": "code",
   "execution_count": null,
   "metadata": {
    "collapsed": true
   },
   "outputs": [],
   "source": [
    "{\n",
    "echo '#!/bin/bash'\n",
    "\n",
    "echo 'qiime alignment mafft \\'\n",
    "echo '--i-sequences /srv/home/anavarro/metag_granulos_hidro/2_resultados/5_vsearch_output/clustered_sequences.qza \\'\n",
    "echo '--p-n-threads -1 \\'\n",
    "echo '--output-dir /srv/home/anavarro/metag_granulos_hidro/2_resultados/6_alignment_output \\'\n",
    "echo '--verbose'\n",
    "\n",
    "} > 6_alignment_mafft.sh"
   ]
  },
  {
   "cell_type": "code",
   "execution_count": null,
   "metadata": {
    "collapsed": true
   },
   "outputs": [],
   "source": [
    "{\n",
    "echo 'executable \t= /srv/home/anavarro/metag_granulos_hidro/3_ejecutables/6_alignment_mafft.sh'\n",
    "echo 'getenv\t\t= True'\n",
    "\n",
    "echo 'output\t\t= /srv/home/anavarro/metag_granulos_hidro/4_outs/6_alignment_mafft$(Process).out '\n",
    "echo 'log  \t\t= /srv/home/anavarro/metag_granulos_hidro/5_logs/6_alignment_mafft$(Process).log'\n",
    "echo 'error\t\t= /srv/home/anavarro/metag_granulos_hidro/6_errores/6_alignment_mafft$(Process).error'\n",
    "\n",
    "echo 'request_cpus\t= 5'\n",
    "\n",
    "echo 'queue'\n",
    "\n",
    "} > 6_alignment_mafft_submbit.condor"
   ]
  },
  {
   "cell_type": "code",
   "execution_count": null,
   "metadata": {
    "collapsed": true
   },
   "outputs": [],
   "source": [
    "condor_submit 6_alignment_mafft_submbit.condor"
   ]
  },
  {
   "cell_type": "markdown",
   "metadata": {},
   "source": [
    "qiime feature-classifier classify-sklearn"
   ]
  },
  {
   "cell_type": "code",
   "execution_count": null,
   "metadata": {
    "collapsed": true
   },
   "outputs": [],
   "source": [
    "Bajar gg-13-8-99-nb-classifier.qza"
   ]
  },
  {
   "cell_type": "code",
   "execution_count": null,
   "metadata": {
    "collapsed": true
   },
   "outputs": [],
   "source": [
    "{\n",
    "echo '#!/bin/bash'\n",
    "\n",
    "echo 'qiime feature-classifier classify-sklearn \\'\n",
    "echo '--i-reads /srv/home/anavarro/metag_granulos_hidro/2_resultados/5_vsearch_output/clustered_sequences.qza \\'\n",
    "echo '--i-classifier /srv/home/anavarro/metag_granulos_hidro/gg-13-8-99-nb-classifier.qza \\'\n",
    "echo '--p-n-jobs -1 \\'\n",
    "echo '--p-confidence 0.8 \\'\n",
    "echo '--output-dir /srv/home/anavarro/metag_granulos_hidro/2_resultados/7_taxonomy_output \\'\n",
    "echo '--verbose'\n",
    "\n",
    "} > 7_taxonomy.sh"
   ]
  },
  {
   "cell_type": "code",
   "execution_count": null,
   "metadata": {
    "collapsed": true
   },
   "outputs": [],
   "source": [
    "{\n",
    "echo 'executable \t= /srv/home/anavarro/metag_granulos_hidro/3_ejecutables/7_taxonomy.sh'\n",
    "echo 'getenv\t\t= True'\n",
    "echo 'output\t\t= /srv/home/anavarro/metag_granulos_hidro/4_outs/7_taxonomy$(Process).out'\n",
    "echo 'log  \t\t= /srv/home/anavarro/metag_granulos_hidro/5_logs/7_taxonomy$(Process).log'\n",
    "echo 'error\t\t= /srv/home/anavarro/metag_granulos_hidro/6_errores/7_taxonomy$(Process).error'\n",
    "\n",
    "echo 'request_cpus\t= 5'\n",
    "echo 'queue'\n",
    "} > 7_taxonomy_submbit.condor"
   ]
  },
  {
   "cell_type": "code",
   "execution_count": null,
   "metadata": {
    "collapsed": true
   },
   "outputs": [],
   "source": [
    "Taxonomy silva"
   ]
  },
  {
   "cell_type": "code",
   "execution_count": null,
   "metadata": {
    "collapsed": true
   },
   "outputs": [],
   "source": [
    "{\n",
    "echo '#!/bin/bash'\n",
    "\n",
    "echo 'qiime feature-classifier classify-sklearn \\'\n",
    "echo '--i-reads /srv/home/anavarro/metag_granulos_hidro/2_resultados/5_vsearch_output/clustered_sequences.qza \\'\n",
    "echo '--i-classifier /srv/home/anavarro/metag_granulos_hidro/silva-119-99-nb-classifier.qza \\'\n",
    "echo '--p-n-jobs -1 \\'\n",
    "echo '--p-confidence 0.8 \\'\n",
    "echo '--output-dir /srv/home/anavarro/metag_granulos_hidro/2_resultados/7_taxonomy_output_silva \\'\n",
    "echo '--verbose'\n",
    "\n",
    "} > 7_taxonomy_silva.sh"
   ]
  },
  {
   "cell_type": "code",
   "execution_count": null,
   "metadata": {
    "collapsed": true
   },
   "outputs": [],
   "source": [
    "{\n",
    "echo 'executable \t= /srv/home/anavarro/metag_granulos_hidro/3_ejecutables/7_taxonomy_silva.sh'\n",
    "echo 'getenv\t\t= True'\n",
    "echo 'output\t\t= /srv/home/anavarro/metag_granulos_hidro/4_outs/7_taxonomy_silva$(Process).out'\n",
    "echo 'log  \t\t= /srv/home/anavarro/metag_granulos_hidro/5_logs/7_taxonomy_silva$(Process).log'\n",
    "echo 'error\t\t= /srv/home/anavarro/metag_granulos_hidro/6_errores/7_taxonomy_silva$(Process).error'\n",
    "\n",
    "echo 'request_cpus\t= 5'\n",
    "echo 'queue'\n",
    "} > 7_taxonomy_submbit_silva.condor"
   ]
  },
  {
   "cell_type": "markdown",
   "metadata": {},
   "source": [
    "phylogeny fast tree"
   ]
  },
  {
   "cell_type": "code",
   "execution_count": null,
   "metadata": {
    "collapsed": true
   },
   "outputs": [],
   "source": [
    "{\n",
    "echo '#!/bin/bash'\n",
    "\n",
    "echo 'qiime phylogeny fasttree \\'\n",
    "echo '--i-alignment /srv/home/anavarro/metag_hidro2/2_resultados/6_alignment_output/alignment.qza \\'\n",
    "echo '--p-n-threads -1 \\'\n",
    "echo '--o-tree /srv/home/anavarro/metag_hidro2/2_resultados/10_tree_output \\'\n",
    "echo '--verbose'\n",
    "} > 10_fasttree.sh"
   ]
  },
  {
   "cell_type": "code",
   "execution_count": null,
   "metadata": {
    "collapsed": true
   },
   "outputs": [],
   "source": [
    "{\n",
    "echo 'executable \t= /srv/home/anavarro/metag_hidro2/3_ejecutables/10_fasttree.sh'\n",
    "echo 'getenv\t\t= True'\n",
    "echo 'output\t\t= /srv/home/anavarro/metag_hidro2/4_outs/10_fasttree$(Process).out'\n",
    "echo 'log  \t\t= /srv/home/anavarro/metag_hidro2/5_logs/10_fasttree$(Process).log'\n",
    "echo 'error\t\t= /srv/home/anavarro/metag_hidro2/6_errores/10_fasttree$(Process).error'\n",
    "\n",
    "\n",
    "echo 'request_cpus\t= 5'\n",
    "\n",
    "echo 'queue'\n",
    "} > 10_fasttree_submbit.condor"
   ]
  },
  {
   "cell_type": "markdown",
   "metadata": {},
   "source": [
    "8 Exporting deblur/denoise output to biom file"
   ]
  },
  {
   "cell_type": "code",
   "execution_count": null,
   "metadata": {
    "collapsed": true
   },
   "outputs": [],
   "source": [
    "{\n",
    "echo '#!/bin/bash'\n",
    "\n",
    "echo 'qiime tools export \\'\n",
    "echo '/srv/home/anavarro/metag_hidro2/2_resultados/5_vsearch_output/clustered_table.qza \\'\n",
    "echo '--output-dir /srv/home/anavarro/metag_hidro2/2_resultados/8_biom/'\n",
    "} > 8_export_biom.sh"
   ]
  },
  {
   "cell_type": "code",
   "execution_count": null,
   "metadata": {
    "collapsed": true
   },
   "outputs": [],
   "source": [
    "{\n",
    "echo 'executable \t= /srv/home/anavarro/metag_hidro2/3_ejecutables/8_export_biom.sh'\n",
    "echo 'getenv\t\t= True'\n",
    "echo 'output\t\t= /srv/home/anavarro/metag_hidro2/4_outs/8_biom$(Process).out'\n",
    "echo 'log  \t\t= /srv/home/anavarro/metag_hidro2/5_logs/8_biom$(Process).log'\n",
    "echo 'error\t\t= /srv/home/anavarro/metag_hidro2/6_errores/8_biom$(Process).error'\n",
    "\n",
    "echo 'request_cpus\t= 5'\n",
    "\n",
    "echo 'queue'\n",
    "} > 8_export_biom.condor"
   ]
  },
  {
   "cell_type": "markdown",
   "metadata": {},
   "source": [
    "10 Exporting feature table to TSV file"
   ]
  },
  {
   "cell_type": "code",
   "execution_count": null,
   "metadata": {
    "collapsed": true
   },
   "outputs": [],
   "source": [
    "{\n",
    "echo '#!/bin/bash'\n",
    "\n",
    "echo 'qiime tools export \\'\n",
    "echo '/srv/home/anavarro/metag_hidro2/2_resultados/7_taxonomy_vsearch_silva/classification.qza \\'\n",
    "echo '--output-dir /srv/home/anavarro/metag_hidro2/2_resultados/9_tsv_silva_vs'\n",
    "} > 9_export_to_tsv_silva_vs.sh"
   ]
  },
  {
   "cell_type": "code",
   "execution_count": null,
   "metadata": {
    "collapsed": true
   },
   "outputs": [],
   "source": [
    "{\n",
    "echo 'executable \t= /srv/home/anavarro/metag_granulos_hidro/3_ejecutables/10_export_to_tsv.sh'\n",
    "echo 'getenv\t\t= True'\n",
    "echo 'output\t\t= /srv/home/anavarro/metag_granulos_hidro/4_outs/10_export_tsv$(Process).out'\n",
    "echo 'log  \t\t= /srv/home/anavarro/metag_granulos_hidro/5_logs/10_export_tsv$(Process).log'\n",
    "echo 'error\t\t= /srv/home/anavarro/metag_granulos_hidro/6_errores/10_export_tsv$(Process).error'\n",
    "\n",
    "echo 'request_cpus\t= 5'\n",
    "\n",
    "echo 'queue'\n",
    "} > 10_export_to_tsv_condor.condor"
   ]
  },
  {
   "cell_type": "markdown",
   "metadata": {
    "collapsed": true
   },
   "source": [
    "11 Exporting qza tree to nwk"
   ]
  },
  {
   "cell_type": "code",
   "execution_count": null,
   "metadata": {
    "collapsed": true
   },
   "outputs": [],
   "source": [
    "{\n",
    "echo '#!/bin/bash'\n",
    "\n",
    "echo 'qiime tools export \\'\n",
    "echo '/srv/home/anavarro/metag_hidro2/2_resultados/10_tree_output.qza \\'\n",
    "echo '--output-dir /srv/home/anavarro/metag_hidro2/2_resultados/11_exported-tree'\n",
    "} > 11_export_to_nwk.sh"
   ]
  },
  {
   "cell_type": "code",
   "execution_count": null,
   "metadata": {
    "collapsed": true
   },
   "outputs": [],
   "source": [
    "{\n",
    "echo 'executable \t= /srv/home/anavarro/metag_hidro2/3_ejecutables/11_export_to_nwk.sh'\n",
    "echo 'getenv\t\t= True'\n",
    "echo 'output\t\t= /srv/home/anavarro/metag_hidro2/4_outs/11_export_to_nwk$(Process).out'\n",
    "echo 'log  \t\t= /srv/home/anavarro/metag_hidro2/5_logs/11_export_to_nwk$(Process).log'\n",
    "echo 'error\t\t= /srv/home/anavarro/metag_hidro2/6_errores/11_export_to_nwk$(Process).error'\n",
    "\n",
    "\n",
    "echo 'request_cpus\t= 5'\n",
    "\n",
    "echo 'queue'\n",
    "} > 11_export_to_nwk_condor.condor"
   ]
  },
  {
   "cell_type": "code",
   "execution_count": null,
   "metadata": {
    "collapsed": true
   },
   "outputs": [],
   "source": []
  },
  {
   "cell_type": "code",
   "execution_count": null,
   "metadata": {
    "collapsed": true
   },
   "outputs": [],
   "source": [
    "{\n",
    "echo '#!/bin/bash'\n",
    "\n",
    "echo 'biom add-metadata \\'\n",
    "echo '-i /srv/home/anavarro/metag_hidro2/2_resultados/8_biom/feature-table.biom  \\'\n",
    "echo '-o /srv/home/anavarro/metag_hidro2/2_resultados/12_1_table_w_tax_silva_vs.biom  \\'\n",
    "echo '--observation-metadata-fp /srv/home/anavarro/metag_hidro2/2_resultados/9_tsv_silva_vs/taxonomy.tsv \\'\n",
    "echo '--observation-header OTUID,taxonomy  \\'\n",
    "echo '--sc-separated taxonomy  \\'\n",
    "echo '--sample-metadata-fp /srv/home/anavarro/metag_hidro2/1_secuencias/metadata.txt  \\'\n",
    "echo '--sample-header SampleID,ciclo,sustrato,hidrogeno,acet '\n",
    "} > 12_join_biom_silva_vs.sh"
   ]
  },
  {
   "cell_type": "code",
   "execution_count": null,
   "metadata": {
    "collapsed": true
   },
   "outputs": [],
   "source": []
  },
  {
   "cell_type": "code",
   "execution_count": null,
   "metadata": {
    "collapsed": true
   },
   "outputs": [],
   "source": [
    "{\n",
    "echo '#!/bin/bash'\n",
    "echo 'biom convert\n",
    "echo '-i table.biom\n",
    "echo '-o table.from_biom_w_taxonomy.txt\n",
    "echo '--to-tsv\n",
    "echo '--header-key taxonomy\n",
    "} > 13_biom_to_otu_table_gg_sk.sh"
   ]
  },
  {
   "cell_type": "code",
   "execution_count": null,
   "metadata": {
    "collapsed": true
   },
   "outputs": [],
   "source": []
  },
  {
   "cell_type": "code",
   "execution_count": null,
   "metadata": {
    "collapsed": true
   },
   "outputs": [],
   "source": [
    "biom add-metadata -i /srv/home/anavarro/metag_hidro2/2_resultados/8_biom/feature-table.biom -o /srv/home/anavarro/metag_granulos_hidro/2_resultados/12_joined_biom/table_w_tax.biom --observation-metadata-fp /srv/home/anavarro/metag_granulos_hidro/2_resultados/10_exported-feature-table-tsv/taxonomy.tsv --observation-header OTUID,taxonomy --sc-separated taxonomy"
   ]
  },
  {
   "cell_type": "code",
   "execution_count": null,
   "metadata": {
    "collapsed": true
   },
   "outputs": [],
   "source": []
  },
  {
   "cell_type": "code",
   "execution_count": null,
   "metadata": {
    "collapsed": true
   },
   "outputs": [],
   "source": [
    "biom add-metadata -i /srv/home/anavarro/metag_granulos_hidro/2_resultados/12_biom_join/table.w_omd_smd.biom -o /srv/home/anavarro/metag_granulos_hidro/2_resultados/13_biom_join_smd/table_w_smd.biom --sample-metadata-fp /srv/home/anavarro/metag_granulos_hidro/1_secuencias/metadata.txt --sample-header SampleID,ciclo,sustrato,hidrogeno,acet"
   ]
  }
 ],
 "metadata": {
  "kernelspec": {
   "display_name": "Bash",
   "language": "bash",
   "name": "bash"
  },
  "language_info": {
   "codemirror_mode": "shell",
   "file_extension": ".sh",
   "mimetype": "text/x-sh",
   "name": "bash"
  }
 },
 "nbformat": 4,
 "nbformat_minor": 2
}
