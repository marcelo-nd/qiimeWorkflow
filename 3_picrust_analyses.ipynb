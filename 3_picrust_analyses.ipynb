{
 "cells": [
  {
   "cell_type": "markdown",
   "metadata": {},
   "source": [
    "# PICRUSt tutorial\n",
    "\n"
   ]
  },
  {
   "cell_type": "markdown",
   "metadata": {},
   "source": [
    "A"
   ]
  },
  {
   "cell_type": "markdown",
   "metadata": {},
   "source": [
    "Set path to analysis directory."
   ]
  },
  {
   "cell_type": "code",
   "execution_count": null,
   "metadata": {
    "collapsed": true
   },
   "outputs": [],
   "source": [
    "ANALYSIS_PATH=/srv/home/anavarro/hidro_agave_diversidad\n",
    "echo ANALYSIS_PATH\n",
    "\n",
    "TMPDIR=/srv/home/anavarro/tmp"
   ]
  },
  {
   "cell_type": "markdown",
   "metadata": {},
   "source": [
    "14) cluster-features with closed_reference."
   ]
  },
  {
   "cell_type": "code",
   "execution_count": null,
   "metadata": {
    "collapsed": true
   },
   "outputs": [],
   "source": [
    "{\n",
    "echo '#!/bin/bash'\n",
    "printf 'export TMPDIR=%s\\n' \"$TMPDIR\"\n",
    "\n",
    "echo 'qiime vsearch cluster-features-closed-reference \\'\n",
    "printf -- '--i-sequences %s/2_resultados/4_deblur_output/representative_sequences.qza \\\\\\n' \"$ANALYSIS_PATH\"\n",
    "printf -- '--i-table %s/2_resultados/4_deblur_output/table.qza \\\\\\n' \"$ANALYSIS_PATH\"\n",
    "printf -- '--i-reference-sequences %s/7_databases/gg_13_8_otus97.qza \\\\\\n' \"$ANALYSIS_PATH\"\n",
    "echo '--p-perc-identity 0.97 \\'\n",
    "echo '--p-threads 0 \\'\n",
    "printf -- '--output-dir %s/2_resultados/picrust/14_closedRef_forPICRUSt_13_8 \\\\\\n' \"$ANALYSIS_PATH\"\n",
    "} > 14_picrust_clustering.sh"
   ]
  },
  {
   "cell_type": "code",
   "execution_count": null,
   "metadata": {
    "collapsed": true
   },
   "outputs": [],
   "source": [
    "{\n",
    "printf 'executable = %s/3_ejecutables/picrust_execs/14_picrust_clustering.sh\\n' \"$ANALYSIS_PATH\"\n",
    "echo 'getenv= True'\n",
    "printf 'output= %s/4_outs/14_vsearch_gg_picrust$(Process).out\\n' \"$ANALYSIS_PATH\"\n",
    "printf 'log  = %s/5_logs/14_vsearch_gg_picrust$(Process).log\\n' \"$ANALYSIS_PATH\"\n",
    "printf 'error= %s/6_errores/14_vsearch_gg_picrust$(Process).error\\n' \"$ANALYSIS_PATH\"\n",
    "echo 'request_cpus  = 5'\n",
    "\n",
    "echo 'queue'\n",
    "} > 14_picrust_clustering_condor.condor"
   ]
  },
  {
   "cell_type": "markdown",
   "metadata": {},
   "source": [
    "15) Taxonomy blast."
   ]
  },
  {
   "cell_type": "code",
   "execution_count": null,
   "metadata": {
    "collapsed": true
   },
   "outputs": [],
   "source": [
    "{\n",
    "echo '#!/bin/bash'\n",
    "echo 'export TMPDIR=/srv/home/anavarro/tmp'\n",
    "\n",
    "echo 'qiime feature-classifier classify-consensus-blast \\'\n",
    "printf -- '--i-query %s/2_resultados/picrust/14_closedRef_forPICRUSt_13_8/clustered_sequences.qza \\\\\\n' \"$ANALYSIS_PATH\"\n",
    "printf -- '--i-reference-reads %s/7_databases/gg_13_8_otus97.qza \\\\\\n' \"$ANALYSIS_PATH\"\n",
    "printf -- '--i-reference-taxonomy %s/7_databases/gg_13_8_otus97_tax.qza \\\\\\n' \"$ANALYSIS_PATH\"\n",
    "echo '--p-perc-identity 0.97 \\'\n",
    "printf -- '--output-dir %s/2_resultados/picrust_analyses_13_8/15_picrust_taxonomy_blast_gg_13_8 \\\\\\n' \"$ANALYSIS_PATH\"\n",
    "echo '--verbose'\n",
    "\n",
    "} > 15_taxonomy_blast_gg_13_8.sh"
   ]
  },
  {
   "cell_type": "code",
   "execution_count": null,
   "metadata": {
    "collapsed": true
   },
   "outputs": [],
   "source": [
    "{\n",
    "printf 'executable \t= %s/3_ejecutables/picrust_analyses_excs/15_taxonomy_blast_gg_13_8.sh \\n' \"$ANALYSIS_PATH\"\n",
    "echo 'getenv\t\t= True'\n",
    "\n",
    "printf 'output\t\t= %s/4_outs/15_tax_picrust_13_8$(Process).out\\n' \"$ANALYSIS_PATH\"\n",
    "printf 'log  \t\t= %s/5_logs/15_tax_picrust_13_8$(Process).log\\n' \"$ANALYSIS_PATH\"\n",
    "printf 'error\t\t= %s/6_errores/15_tax_picrust_13_8$(Process).error\\n' \"$ANALYSIS_PATH\"\n",
    "\n",
    "echo 'request_cpus\t=0'\n",
    "\n",
    "echo 'queue'\n",
    "} > 15_taxonomy_blast_gg_13_8_submit.condor"
   ]
  },
  {
   "cell_type": "code",
   "execution_count": null,
   "metadata": {},
   "outputs": [],
   "source": [
    "{\n",
    "echo '#!/bin/bash'\n",
    "printf 'export TMPDIR=%s\\n' \"$TMPDIR\"\n",
    "\n",
    "echo 'qiime feature-classifier classify-sklearn \\'\n",
    "printf -- '--i-reads %s/2_resultados/picrust/14_closedRef_forPICRUSt_13_8/clustered_sequences.qza \\\\\\n' \"$ANALYSIS_PATH\"\n",
    "printf -- '--i-classifier %s/7_databases/gg-13-8-99-nb-classifier.qza \\\\\\n' \"$ANALYSIS_PATH\"\n",
    "echo '--p-n-jobs -1 \\'\n",
    "echo '--p-confidence 0.8 \\'\n",
    "printf -- '--output-dir %s/2_resultados/picrust/15_picrust_taxonomy_output \\\\\\n' \"$ANALYSIS_PATH\"\n",
    "echo '--verbose'\n",
    "\n",
    "} > 15_picrust_taxonomy_gg_sk.sh"
   ]
  },
  {
   "cell_type": "code",
   "execution_count": null,
   "metadata": {},
   "outputs": [],
   "source": [
    "{\n",
    "printf 'executable \t= %s/3_ejecutables/picrust_execs/15_picrust_taxonomy_gg_sk.sh\\n' \"$ANALYSIS_PATH\" \n",
    "echo 'getenv\t\t= True'\n",
    "printf 'output\t\t= %s/4_outs/15_picrust_taxonomy$(Process).out\\n' \"$ANALYSIS_PATH\"\n",
    "printf 'log  \t\t= %s/5_logs/15_picrust_taxonomy$(Process).log\\n' \"$ANALYSIS_PATH\"\n",
    "printf 'error\t\t= %s/6_errores/15_picrust_taxonomy$(Process).error\\n' \"$ANALYSIS_PATH\"\n",
    "\n",
    "echo 'request_cpus\t= 5'\n",
    "echo 'queue'\n",
    "} > 15_picrust_taxonomy_gg_sk_submbit.condor"
   ]
  },
  {
   "cell_type": "markdown",
   "metadata": {},
   "source": [
    "16) Exporting clustered output to biom file"
   ]
  },
  {
   "cell_type": "code",
   "execution_count": null,
   "metadata": {
    "collapsed": true
   },
   "outputs": [],
   "source": [
    "{\n",
    "echo '#!/bin/bash'\n",
    "printf 'export TMPDIR=%s\\n' \"$TMPDIR\"\n",
    "\n",
    "echo 'qiime tools export \\'\n",
    "printf -- '--input-path %s/2_resultados/picrust/14_closedRef_forPICRUSt_13_8/clustered_table.qza \\\\\\n' \"$ANALYSIS_PATH\"\n",
    "printf -- '--output-path %s/2_resultados/picrust/16_biom_13_8/' \"$ANALYSIS_PATH\"\n",
    "} > 16_export_biom.sh"
   ]
  },
  {
   "cell_type": "code",
   "execution_count": null,
   "metadata": {
    "collapsed": true
   },
   "outputs": [],
   "source": [
    "{\n",
    "printf 'executable \t= %s/3_ejecutables/picrust_execs/16_export_biom.sh\\n' \"$ANALYSIS_PATH\"\n",
    "echo 'getenv\t\t= True'\n",
    "\n",
    "printf 'output\t\t= %s/4_outs/16_biom$(Process).out\\n' \"$ANALYSIS_PATH\"\n",
    "printf 'log  \t\t= %s/5_logs/16_biom$(Process).log\\n' \"$ANALYSIS_PATH\"\n",
    "printf 'error\t\t= %s/6_errores/16_biom$(Process).error\\n' \"$ANALYSIS_PATH\"\n",
    "\n",
    "echo 'request_cpus\t= 5'\n",
    "\n",
    "echo 'queue'\n",
    "} > 16_export_biom.condor"
   ]
  },
  {
   "cell_type": "code",
   "execution_count": null,
   "metadata": {},
   "outputs": [],
   "source": [
    "biom summarize-table -i ../../2_resultados/picrust/16_biom_13_8/feature-table.biom -o ../../2_resultados/picrust/16_biom_13_8/biom_sum.txt"
   ]
  },
  {
   "cell_type": "markdown",
   "metadata": {},
   "source": [
    "17) Exporting taxonomy classificaction to TSV file"
   ]
  },
  {
   "cell_type": "code",
   "execution_count": null,
   "metadata": {
    "collapsed": true
   },
   "outputs": [],
   "source": [
    "{\n",
    "echo '#!/bin/bash'\n",
    "printf 'export TMPDIR=%s\\n' \"$TMPDIR\"\n",
    "\n",
    "echo 'qiime tools export \\'\n",
    "printf -- '--input-path %s/2_resultados/picrust/15_picrust_taxonomy_output/classification.qza \\\\\\n' \"$ANALYSIS_PATH\"\n",
    "printf -- '--output-path %s/2_resultados/picrust/17_picrust_tsv_gg_13_8' \"$ANALYSIS_PATH\"\n",
    "} > 17_picrust_export_to_tsv_gg_13_8.sh"
   ]
  },
  {
   "cell_type": "code",
   "execution_count": null,
   "metadata": {
    "collapsed": true
   },
   "outputs": [],
   "source": [
    "{\n",
    "printf 'executable \t= %s/3_ejecutables/17_picrust_export_to_tsv_gg_13_8.sh\\n' \"$ANALYSIS_PATH\"\n",
    "echo 'getenv\t\t= True'\n",
    "printf 'output\t\t= %s/4_outs/17_export_tsv$(Process).out\\n' \"$ANALYSIS_PATH\"\n",
    "printf 'log  \t\t= %s/5_logs/17_export_tsv$(Process).log\\n' \"$ANALYSIS_PATH\"\n",
    "printf 'error\t\t= %s/6_errores/17_export_tsv$(Process).error\\n' \"$ANALYSIS_PATH\"\n",
    "\n",
    "echo 'request_cpus\t= 5'\n",
    "\n",
    "echo 'queue'\n",
    "} > 17_picrust_export_to_tsv_gg_13_8_submit.condor"
   ]
  },
  {
   "cell_type": "markdown",
   "metadata": {
    "collapsed": true
   },
   "source": [
    "18) Joining biom with classification."
   ]
  },
  {
   "cell_type": "code",
   "execution_count": null,
   "metadata": {
    "collapsed": true
   },
   "outputs": [],
   "source": [
    "{\n",
    "echo '#!/bin/bash'\n",
    "printf 'export TMPDIR=%s\\n' \"$TMPDIR\"\n",
    "\n",
    "echo 'biom add-metadata \\'\n",
    "printf -- '-i %s/2_resultados/picrust/16_biom_13_8/feature-table.biom  \\\\\\n' \"$ANALYSIS_PATH\"\n",
    "printf -- '-o %s/2_resultados/picrust/18_picrust_13_8_biom_tax.biom \\\\\\n' \"$ANALYSIS_PATH\"\n",
    "printf -- '--observation-metadata-fp %s/2_resultados/picrust/17_picrust_tsv_gg_13_8/4_taxonomy_updated_picrust.tsv \\\\\\n' \"$ANALYSIS_PATH\"\n",
    "echo '--observation-header OTUID,taxonomy \\'\n",
    "echo '--sc-separated taxonomy  \\'\n",
    "} > 18_join_biom_tax.sh"
   ]
  },
  {
   "cell_type": "code",
   "execution_count": null,
   "metadata": {},
   "outputs": [],
   "source": [
    "biom summarize-table -i ../../2_resultados/picrust/18_picrust_13_8_biom_tax.biom -o ../../2_resultados/picrust/18_biom_sum.txt"
   ]
  },
  {
   "cell_type": "markdown",
   "metadata": {},
   "source": [
    "19) Exporting biom as OTU table. Useful for other analyses."
   ]
  },
  {
   "cell_type": "code",
   "execution_count": null,
   "metadata": {
    "collapsed": true
   },
   "outputs": [],
   "source": [
    "{\n",
    "echo '#!/bin/bash'\n",
    "printf 'export TMPDIR=%s\\n' \"$TMPDIR\"\n",
    "\n",
    "echo 'biom convert \\'\n",
    "printf -- '-i %s/2_resultados/picrust/18_picrust_13_8_biom_tax.biom \\\\\\n' \"$ANALYSIS_PATH\"\n",
    "printf -- '-o %s/2_resultados/picrust/19_table.from_biom_w_taxonomy.txt \\\\\\n' \"$ANALYSIS_PATH\"\n",
    "echo '--to-tsv \\'\n",
    "echo '--header-key taxonomy'\n",
    "} > 19_biom_to_otu_table_gg_sk.sh"
   ]
  },
  {
   "cell_type": "markdown",
   "metadata": {},
   "source": [
    "Install PICRUSt"
   ]
  },
  {
   "cell_type": "code",
   "execution_count": null,
   "metadata": {},
   "outputs": [],
   "source": [
    "conda create --name picrust1.1.3"
   ]
  },
  {
   "cell_type": "code",
   "execution_count": null,
   "metadata": {},
   "outputs": [],
   "source": [
    "source activate picrust1.1.3"
   ]
  },
  {
   "cell_type": "code",
   "execution_count": null,
   "metadata": {},
   "outputs": [],
   "source": [
    "conda install -c bioconda picrust"
   ]
  },
  {
   "cell_type": "code",
   "execution_count": null,
   "metadata": {},
   "outputs": [],
   "source": [
    "download_picrust_files.py"
   ]
  },
  {
   "cell_type": "markdown",
   "metadata": {},
   "source": []
  },
  {
   "cell_type": "markdown",
   "metadata": {},
   "source": [
    "Step 1: Normalize OTU Table"
   ]
  },
  {
   "cell_type": "code",
   "execution_count": null,
   "metadata": {},
   "outputs": [],
   "source": [
    "normalize_by_copy_number.py -i /srv/home/anavarro/agave_metagenom/2_resultados/picrust/18_picrust_13_8_biom_tax.biom -o /srv/home/anavarro/agave_metagenom/2_resultados/picrust/20_normalized_otus.biom"
   ]
  },
  {
   "cell_type": "markdown",
   "metadata": {},
   "source": [
    "Step 2: Predict Functions For Metagenome"
   ]
  },
  {
   "cell_type": "code",
   "execution_count": null,
   "metadata": {},
   "outputs": [],
   "source": [
    "predict_metagenomes.py -i 20_normalized_otus.biom -o 21_metagenome_predictions.biom -a 21_nsti_per_sample.tab"
   ]
  },
  {
   "cell_type": "code",
   "execution_count": null,
   "metadata": {},
   "outputs": [],
   "source": [
    "predict_metagenomes.py -f -i 20_normalized_otus.tab -o 21_metagenome_predictions.tab -a 21_nsti_per_sample.tab"
   ]
  },
  {
   "cell_type": "code",
   "execution_count": null,
   "metadata": {},
   "outputs": [],
   "source": [
    "{\n",
    "echo '#!/bin/bash'\n",
    "printf 'export TMPDIR=%s\\n' \"$TMPDIR\"\n",
    "\n",
    "echo 'predict_metagenomes.py \\'\n",
    "printf -- '-i %s/2_resultados/picrust/20_normalized_otus.biom \\\\\\n' \"$ANALYSIS_PATH\"\n",
    "printf -- '-o %s/2_resultados/picrust/21_metagenome_predictions.biom \\\\\\n' \"$ANALYSIS_PATH\"\n",
    "printf -- '-a %s/2_resultados/picrust/21_nsti_per_sample.tab \\\\\\n' \"$ANALYSIS_PATH\"\n",
    "echo '--verbose'\n",
    "} > 21_predict_metagenome_biom.sh"
   ]
  },
  {
   "cell_type": "code",
   "execution_count": null,
   "metadata": {},
   "outputs": [],
   "source": [
    "{\n",
    "printf 'executable \t= %s/3_ejecutables/picrust_execs/21_predict_metagenome_biom.sh\\n' \"$ANALYSIS_PATH\" \n",
    "\n",
    "echo 'getenv\t\t= True'\n",
    "printf 'output\t\t= %s/4_outs/21_predict_metagenome$(Process).out\\n' \"$ANALYSIS_PATH\" \n",
    "printf 'log  \t\t= %s/5_logs/21_predict_metagenome$(Process).log\\n' \"$ANALYSIS_PATH\" \n",
    "printf 'error\t\t= %s/6_errores/21_predict_metagenome$(Process).error\\n' \"$ANALYSIS_PATH\" \n",
    "\n",
    "echo 'request_cpus\t=5'\n",
    "\n",
    "echo 'queue'\n",
    "} > 21_predict_metagenome_biom.condor"
   ]
  },
  {
   "cell_type": "code",
   "execution_count": null,
   "metadata": {},
   "outputs": [],
   "source": [
    "condor_submit 21_predict_metagenome_biom.condor"
   ]
  },
  {
   "cell_type": "code",
   "execution_count": null,
   "metadata": {},
   "outputs": [],
   "source": [
    "{\n",
    "echo '#!/bin/bash'\n",
    "printf 'export TMPDIR=%s\\n' \"$TMPDIR\"\n",
    "\n",
    "echo 'predict_metagenomes.py \\'\n",
    "printf -- '-i %s/2_resultados/picrust/20_normalized_otus.biom \\\\\\n' \"$ANALYSIS_PATH\"\n",
    "printf -- '-o %s/2_resultados/picrust/21_metagenome_predictions.tab \\\\\\n' \"$ANALYSIS_PATH\"\n",
    "printf -- '-a %s/2_resultados/picrust/21_nsti_per_sample_2.tab \\\\\\n' \"$ANALYSIS_PATH\"\n",
    "echo '-f'\n",
    "} > 21_predict_metagenome_tab.sh"
   ]
  },
  {
   "cell_type": "code",
   "execution_count": null,
   "metadata": {},
   "outputs": [],
   "source": [
    "{\n",
    "printf 'executable \t= %s/3_ejecutables/picrust_execs/21_predict_metagenome_tab.sh\\n' \"$ANALYSIS_PATH\" \n",
    "\n",
    "echo 'getenv\t\t= True'\n",
    "printf 'output\t\t= %s/4_outs/21_predict_metagenome$(Process).out\\n' \"$ANALYSIS_PATH\" \n",
    "printf 'log  \t\t= %s/5_logs/21_predict_metagenome$(Process).log\\n' \"$ANALYSIS_PATH\" \n",
    "printf 'error\t\t= %s/6_errores/21_predict_metagenome$(Process).error\\n' \"$ANALYSIS_PATH\" \n",
    "\n",
    "echo 'request_cpus\t=5'\n",
    "\n",
    "echo 'queue'\n",
    "} > 21_predict_metagenome_tab.condor"
   ]
  },
  {
   "cell_type": "code",
   "execution_count": null,
   "metadata": {},
   "outputs": [],
   "source": [
    "condor_submit 21_predict_metagenome_tab.condor"
   ]
  },
  {
   "cell_type": "markdown",
   "metadata": {},
   "source": [
    "Bajar biom_to_stamp"
   ]
  },
  {
   "cell_type": "code",
   "execution_count": null,
   "metadata": {},
   "outputs": [],
   "source": [
    "biom_to_stamp.py -m KEGG_Description 21_metagenome_predictions.biom > 21_metagenome_predictions.spf"
   ]
  },
  {
   "cell_type": "markdown",
   "metadata": {},
   "source": [
    "Categorize by function. KO ids."
   ]
  },
  {
   "cell_type": "code",
   "execution_count": null,
   "metadata": {},
   "outputs": [],
   "source": [
    "categorize_by_function.py -i 21_metagenome_predictions.biom -c KEGG_Pathways -l 3 -o predicted_metagenomes.L3.tab"
   ]
  },
  {
   "cell_type": "markdown",
   "metadata": {},
   "source": [
    "Metagenome contributions, for all functions (by KO ids)."
   ]
  },
  {
   "cell_type": "code",
   "execution_count": null,
   "metadata": {},
   "outputs": [],
   "source": [
    "metagenome_contributions.py -i 20_normalized_otus.biom -t ko -o metagenome_contributions.all.tab"
   ]
  },
  {
   "cell_type": "markdown",
   "metadata": {},
   "source": [
    "Higher classifications. KEGG Pathways. Only selected KO ids or functional categories."
   ]
  },
  {
   "cell_type": "code",
   "execution_count": null,
   "metadata": {},
   "outputs": [],
   "source": [
    "metagenome_contributions.py -i 20_normalized_otus.biom -f \"Energy metabolism|Carbohydrate metabolism|Starch and sucrose metabolism|Bacterial chemotaxis|Amino acid metabolism|Metabolism of cofactors and vitamins\" -t ko -o metagenome_contributions.selected_paths.tab"
   ]
  },
  {
   "cell_type": "markdown",
   "metadata": {},
   "source": [
    "Energy metabolism"
   ]
  },
  {
   "cell_type": "code",
   "execution_count": null,
   "metadata": {},
   "outputs": [],
   "source": [
    "metagenome_contributions.py -i 20_normalized_otus.biom -f \"Energy metabolism\" -t ko -o metagenome_contributions.energy_metabolism.tab"
   ]
  },
  {
   "cell_type": "markdown",
   "metadata": {},
   "source": [
    "Carbohydrate metabolism"
   ]
  },
  {
   "cell_type": "code",
   "execution_count": null,
   "metadata": {},
   "outputs": [],
   "source": [
    "metagenome_contributions.py -i 20_normalized_otus.biom -f \"Carbohydrate metabolism\" -t ko -o metagenome_contributions.carbohydrate_metabolism.tab"
   ]
  },
  {
   "cell_type": "markdown",
   "metadata": {},
   "source": [
    "Starch and sucrose metabolism"
   ]
  },
  {
   "cell_type": "code",
   "execution_count": null,
   "metadata": {},
   "outputs": [],
   "source": [
    "metagenome_contributions.py -i 20_normalized_otus.biom -f \"Starch and sucrose metabolism\" -t ko -o metagenome_contributions.starch_sucrose_metabolism.tab"
   ]
  },
  {
   "cell_type": "markdown",
   "metadata": {},
   "source": [
    "Bacterial chemotaxis"
   ]
  },
  {
   "cell_type": "code",
   "execution_count": null,
   "metadata": {},
   "outputs": [],
   "source": [
    "metagenome_contributions.py -i 20_normalized_otus.biom -f \"Bacterial chemotaxis\" -t ko -o metagenome_contributions.bacterial_chemotaxis.tab"
   ]
  },
  {
   "cell_type": "markdown",
   "metadata": {},
   "source": [
    "Amino acid metabolism"
   ]
  },
  {
   "cell_type": "code",
   "execution_count": null,
   "metadata": {},
   "outputs": [],
   "source": [
    "metagenome_contributions.py -i 20_normalized_otus.biom -f \"Amino acid metabolism\" -t ko -o metagenome_contributions.amino_acid_metabolism.tab"
   ]
  },
  {
   "cell_type": "markdown",
   "metadata": {},
   "source": [
    "Metabolism of cofactors and vitamins"
   ]
  },
  {
   "cell_type": "code",
   "execution_count": null,
   "metadata": {},
   "outputs": [],
   "source": [
    "metagenome_contributions.py -i 20_normalized_otus.biom -f \"Metabolism of cofactors and vitamins\" -t ko -o metagenome_contributions.cofactors_vitamins_metabolism.tab"
   ]
  }
 ],
 "metadata": {
  "kernelspec": {
   "display_name": "Bash",
   "language": "bash",
   "name": "bash"
  },
  "language_info": {
   "codemirror_mode": "shell",
   "file_extension": ".sh",
   "mimetype": "text/x-sh",
   "name": "bash"
  }
 },
 "nbformat": 4,
 "nbformat_minor": 2
}
